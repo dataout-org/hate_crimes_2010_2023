{
 "cells": [
  {
   "cell_type": "code",
   "execution_count": null,
   "id": "45c7238d-1582-4dbb-84fb-b63b2605bca1",
   "metadata": {},
   "outputs": [],
   "source": [
    "import spacy #3.5.0\n",
    "import json\n",
    "import re\n",
    "from os import listdir"
   ]
  },
  {
   "cell_type": "markdown",
   "id": "29d6fe17-b264-4dae-92e2-382752adf74d",
   "metadata": {},
   "source": [
    "### Redacting sensitive info in texts of court rulings\n",
    "This notebook helps identify potentially sensitive and/or personal information in the texts of court rulings. We use a pretrained spacy model for Russian (see https://spacy.io/models/ru#ru_core_news_lg) to recognise named entities automatically. For full addresses, phone numbers, IP addresses, passport numbers, and emails, we use regular expressions (regex).\n",
    "\n",
    "0. Before redacting, we converted all files of court rulings into txt.\n",
    "1. Then, in each txt file, we identified spans with sensitive info with spacy and regex, and put all these spans into a json file.\n",
    "2. We reviewed the resulting json file manually to minimise mistakes.\n",
    "3. We redacted sensitive spans in all txt files by replacing them with an ellipsis '[...]'.\n",
    "4. Lastly, we reviewed the redacted txt files checking whether there is no other potentially sensitive/personal info in them. However, we cannot guarantee that we redacted all potentially sensitive/personal info.\n",
    "\n",
    "This notebook can be reused to redact sensitive/personal info in Russian court rulings."
   ]
  },
  {
   "cell_type": "code",
   "execution_count": null,
   "id": "ea5a2a42-a097-4e4d-91bb-a7439a2b6ece",
   "metadata": {},
   "outputs": [],
   "source": [
    "# spacy.cli.download(\"ru_core_news_lg\")"
   ]
  },
  {
   "cell_type": "code",
   "execution_count": null,
   "id": "093bc73b-4628-4094-bd5a-5813878cd573",
   "metadata": {},
   "outputs": [],
   "source": [
    "nlp_ru = spacy.load(\"ru_core_news_lg\")"
   ]
  },
  {
   "cell_type": "code",
   "execution_count": null,
   "id": "b9872e0a-b88d-47ad-a673-195422d043ce",
   "metadata": {},
   "outputs": [],
   "source": [
    "# a directtory with files to anonymise\n",
    "path_to_files = \"\""
   ]
  },
  {
   "cell_type": "code",
   "execution_count": null,
   "id": "c3b2d894-ff3e-4bbe-9808-371ae3048ebf",
   "metadata": {},
   "outputs": [],
   "source": [
    "def get_redact_info_single_file(files_directory:str, filename:str, spacy_model) -> set:\n",
    "    '''\n",
    "    Redacting sensitive info (names, physical addresses, phones, emails, passport numbers, IP addresses)\n",
    "    in a single txt file;\n",
    "    To identify names, we use spacy model \"ru_core_news_lg\"; for other info, we use regex\n",
    "    Takes 1 txt file as an input\n",
    "    files_directory: str, path to txt files incl. \"/\"\n",
    "    filename: str, name of txt file incl .txt\n",
    "    spacy_model: loaded spacy model\n",
    "    Returns a set of str to redact in a file\n",
    "    '''\n",
    "    to_redact_list = []\n",
    "    \n",
    "    with open(f\"{files_directory}/{filename}\", 'r', encoding='utf-8') as file:\n",
    "        case = file.read()\n",
    "        \n",
    "    process = spacy_model(case)\n",
    "\n",
    "    # this pattern includes words that are often mistakenly identified as personal names by spacy \n",
    "    pattern = re.compile(r\"(Свидетел\\w*\\s*(N|№)?\\d*)|(Потерпевш\\w*\\s*(N|№)?\\d*)|(ФИО\\s*\\d*)|(Лицо\\s*\\d*)\", re.IGNORECASE)\n",
    "\n",
    "    # redacting names\n",
    "    \n",
    "    cleared_names = [\n",
    "        name.split('\\n')[0] if '\\n' in name else name\n",
    "        for name in set(ent.text for ent in process.ents if ent.label_ == 'PER' and len(ent.text) > 5)\n",
    "    ]\n",
    "\n",
    "    for name in cleared_names:\n",
    "        if not pattern.search(name):\n",
    "            to_redact_list.append(name)\n",
    "        else:\n",
    "            # do not redact already redacted names (such as 'ФИО5')\n",
    "            new_n = pattern.sub('', name)\n",
    "            if len(new_n) > 5:\n",
    "                to_redact_list.append(new_n)\n",
    "            \n",
    "    # regex for physical addresses, phones, emails, passport numbers, IP addresses\n",
    "    address_pattern = re.compile(r\"(?:улиц(?:\\.|\\w)|ул\\.?)\\s+[А-Яа-яЁё\\s\\-]+,?\\s*(?:дом|д\\.?)\\s*\\d+\\s*[А-Яа-яЁё]?(?:/\\d+)?\\s*,?\\s*(?:(?:корпус|корп\\.?|кор\\.?)\\s*\\d+\\s*,?\\s*)?(?:(?:строение|стр\\.?)\\s*\\d+\\s*,?\\s*)?(?:(?:квартира|кв\\.?)\\s*\\d+\\s*)?\")\n",
    "    phone_pattern = re.compile(r\"(\\+?[78][\\s(]*\\d{3}[\\s)]*\\d{3}[-\\s]*\\d{2}[-\\s]*\\d{2})\")\n",
    "    email_pattern = re.compile(r\"(\\\\b[A-Za-z0-9._%+-]+@[A-Za-z0-9.-]+\\.[A-Z|a-z]{2,7}\\\\b)\")\n",
    "    passport_pattern = re.compile(r\"(\\\\b\\d{2}\\s\\d{2}\\s\\d{6}\\\\b)\")\n",
    "    ip_pattern = re.compile(r\"(\\\\b\\d{1,3}\\.\\d{1,3}\\.\\d{1,3}\\.\\d{1,3}\\\\b)\")\n",
    "\n",
    "    to_redact_list.extend(set(address_pattern.findall(case)))\n",
    "    to_redact_list.extend(set(phone_pattern.findall(case)))\n",
    "    to_redact_list.extend(set(email_pattern.findall(case)))\n",
    "    to_redact_list.extend(set(passport_pattern.findall(case)))\n",
    "    to_redact_list.extend(set(ip_pattern.findall(case)))\n",
    "        \n",
    "    return set(to_redact_list)"
   ]
  },
  {
   "cell_type": "code",
   "execution_count": null,
   "id": "dd786c24-459f-4e76-8cc5-02b1bfda0017",
   "metadata": {},
   "outputs": [],
   "source": [
    "def redact_info(path_to_redact_info:str, path_to_cases:str, path_to_save='') -> str:\n",
    "    '''\n",
    "    Redacting info in txt files\n",
    "    path_to_redact_info: str, path to a json file containing potentially sensitive info to redact\n",
    "    path_to_cases: str, path to a directory with txt files to redact\n",
    "    path_to_save: str, path to a directory where to save redacted files, default is ''; redacted txt files have the suffix \"_redacted\";\n",
    "    Returns a str\n",
    "    '''\n",
    "\n",
    "    ellipsis = '[...]'\n",
    "    # reading info to redact\n",
    "    with open(path_to_redact_info,'r') as jf:\n",
    "        to_redact = json.load(jf)\n",
    "\n",
    "    for filename, redact_list in to_redact.items():\n",
    "        \n",
    "        # opening a file to redact\n",
    "        with open(f\"{path_to_cases}/{filename}\", 'r', encoding='utf-8') as file:\n",
    "            case = file.read()\n",
    "\n",
    "        if len(redact_list) > 0:\n",
    "            \n",
    "            # iterating through str to redact\n",
    "            pattern = re.compile('|'.join(re.escape(redact_span) for redact_span in redact_list))\n",
    "            case_redacted = pattern.sub(ellipsis, case)\n",
    "            case_spaces = re.sub(r'\\u00A0', ' ', case_redacted)\n",
    "\n",
    "            # saving redacted file\n",
    "            with open(f\"{path_to_save}/{filename.replace('.txt','')}_redacted.txt\",'w') as txt_file:\n",
    "                txt_file.writelines(case_spaces)\n",
    "                \n",
    "        else:\n",
    "            with open(f\"{path_to_save}/{filename.replace('.txt','')}_redacted.txt\",'w') as txt_file:\n",
    "                txt_file.writelines(case)\n",
    "        \n",
    "    return f\"Redacted files are saved in {path_to_save}\""
   ]
  },
  {
   "cell_type": "markdown",
   "id": "dc8173f1-c37b-4fe2-9e05-728f309def98",
   "metadata": {},
   "source": [
    "### The redaction process"
   ]
  },
  {
   "cell_type": "code",
   "execution_count": null,
   "id": "8b63b1b9-ab39-4f29-911c-64366d16ee5c",
   "metadata": {},
   "outputs": [],
   "source": [
    "# (0) getting all .txt files to redact (we grouped txt files by year)\n",
    "txts = [doc for doc in listdir(path_to_files) if doc.endswith('.txt')]"
   ]
  },
  {
   "cell_type": "code",
   "execution_count": null,
   "id": "48c4c70d-6bc8-4e14-a71a-a20574aa633e",
   "metadata": {},
   "outputs": [],
   "source": [
    "# (1) making a dictionary with the info to redact in all .txt files in a directory\n",
    "redact_dict = {}\n",
    "for t in txts:\n",
    "    # {'file_name':['a list of spans to be redacted']}\n",
    "    redact_dict[t] = list(get_redact_info_single_file(path_to_files,t,nlp_ru))\n",
    "\n",
    "with open(f\"{path_to_files}/to_redact_info.json\", 'w') as jf:\n",
    "    json.dump(redact_dict,jf,ensure_ascii=False,indent=4)"
   ]
  },
  {
   "cell_type": "code",
   "execution_count": null,
   "id": "de227975-0a77-4bc5-bc16-5fc16de6bef0",
   "metadata": {},
   "outputs": [],
   "source": [
    "# (2) review 'to_redact_info.json' manually"
   ]
  },
  {
   "cell_type": "code",
   "execution_count": null,
   "id": "e2bba2a6-b183-4908-b509-e98b83893f79",
   "metadata": {},
   "outputs": [],
   "source": [
    "# (3) Redacting info in .txt files\n",
    "# path_to_redact_info – path to 'to_redact_info.json'\n",
    "# path_to_save – where to save redacted cases\n",
    "redact_info(path_to_redact_info,path_to_files,path_to_save)"
   ]
  },
  {
   "cell_type": "code",
   "execution_count": null,
   "id": "27b6d4f3-d223-490c-b3de-a0d45e6f083c",
   "metadata": {},
   "outputs": [],
   "source": [
    "# (4) review redacted .txt files manually"
   ]
  }
 ],
 "metadata": {
  "kernelspec": {
   "display_name": "Python 3",
   "language": "python",
   "name": "python3"
  },
  "language_info": {
   "codemirror_mode": {
    "name": "ipython",
    "version": 3
   },
   "file_extension": ".py",
   "mimetype": "text/x-python",
   "name": "python",
   "nbconvert_exporter": "python",
   "pygments_lexer": "ipython3",
   "version": "3.8.5"
  }
 },
 "nbformat": 4,
 "nbformat_minor": 5
}
